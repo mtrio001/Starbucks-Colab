{
  "nbformat": 4,
  "nbformat_minor": 0,
  "metadata": {
    "colab": {
      "name": "Starbucks",
      "provenance": [],
      "authorship_tag": "ABX9TyMeaJ37k9MxLNCWjTJmDyTd",
      "include_colab_link": true
    },
    "kernelspec": {
      "name": "python3",
      "display_name": "Python 3"
    },
    "language_info": {
      "name": "python"
    }
  },
  "cells": [
    {
      "cell_type": "markdown",
      "metadata": {
        "id": "view-in-github",
        "colab_type": "text"
      },
      "source": [
        "<a href=\"https://colab.research.google.com/github/mtrio001/Starbucks-Colab/blob/main/Starbucks.ipynb\" target=\"_parent\"><img src=\"https://colab.research.google.com/assets/colab-badge.svg\" alt=\"Open In Colab\"/></a>"
      ]
    },
    {
      "cell_type": "markdown",
      "source": [
        "**Where can I find a mass amount of Starbucks?**\n",
        "\n",
        "With one of the most popular drinks in the world being coffee, I have decided to show where in the world there are a large portion of starbucks stores. This is the largest coffee chain in the world so what better place to show locations of than starbucks. As a huge coffee drinker and starbucks fan, I thought it be interesting to show where you can find the largest amount of starbucks in the world."
      ],
      "metadata": {
        "id": "y0potBZcgtmT"
      }
    },
    {
      "cell_type": "code",
      "execution_count": 31,
      "metadata": {
        "id": "GXl8KY4fx1-d",
        "colab": {
          "base_uri": "https://localhost:8080/"
        },
        "outputId": "361eb310-d76b-4ab2-ea62-75b240f08faa"
      },
      "outputs": [
        {
          "output_type": "stream",
          "name": "stdout",
          "text": [
            "Drive already mounted at /content/drive; to attempt to forcibly remount, call drive.mount(\"/content/drive\", force_remount=True).\n"
          ]
        }
      ],
      "source": [
        "import numpy as np\n",
        "import pandas as pd\n",
        "import os\n",
        "import matplotlib.pyplot as plt\n",
        "import seaborn as sns\n",
        "from google.colab import drive\n",
        "drive.mount('/content/drive')"
      ]
    },
    {
      "cell_type": "code",
      "source": [
        "df = pd.read_csv(\"drive/MyDrive/directory.csv\")\n",
        "df.head()\n"
      ],
      "metadata": {
        "colab": {
          "base_uri": "https://localhost:8080/",
          "height": 206
        },
        "id": "QN-lPEfFQsXv",
        "outputId": "26c8f358-1d33-44e3-c189-ff525ec485c3"
      },
      "execution_count": 13,
      "outputs": [
        {
          "output_type": "execute_result",
          "data": {
            "text/html": [
              "<div>\n",
              "<style scoped>\n",
              "    .dataframe tbody tr th:only-of-type {\n",
              "        vertical-align: middle;\n",
              "    }\n",
              "\n",
              "    .dataframe tbody tr th {\n",
              "        vertical-align: top;\n",
              "    }\n",
              "\n",
              "    .dataframe thead th {\n",
              "        text-align: right;\n",
              "    }\n",
              "</style>\n",
              "<table border=\"1\" class=\"dataframe\">\n",
              "  <thead>\n",
              "    <tr style=\"text-align: right;\">\n",
              "      <th></th>\n",
              "      <th>Brand</th>\n",
              "      <th>Store Number</th>\n",
              "      <th>Store Name</th>\n",
              "      <th>Ownership Type</th>\n",
              "      <th>Street Address</th>\n",
              "      <th>City</th>\n",
              "      <th>State/Province</th>\n",
              "      <th>Country</th>\n",
              "      <th>Postcode</th>\n",
              "      <th>Phone Number</th>\n",
              "      <th>Timezone</th>\n",
              "      <th>Longitude</th>\n",
              "      <th>Latitude</th>\n",
              "    </tr>\n",
              "  </thead>\n",
              "  <tbody>\n",
              "    <tr>\n",
              "      <th>0</th>\n",
              "      <td>Starbucks</td>\n",
              "      <td>47370-257954</td>\n",
              "      <td>Meritxell, 96</td>\n",
              "      <td>Licensed</td>\n",
              "      <td>Av. Meritxell, 96</td>\n",
              "      <td>Andorra la Vella</td>\n",
              "      <td>7</td>\n",
              "      <td>AD</td>\n",
              "      <td>AD500</td>\n",
              "      <td>376818720</td>\n",
              "      <td>GMT+1:00 Europe/Andorra</td>\n",
              "      <td>1.53</td>\n",
              "      <td>42.51</td>\n",
              "    </tr>\n",
              "    <tr>\n",
              "      <th>1</th>\n",
              "      <td>Starbucks</td>\n",
              "      <td>22331-212325</td>\n",
              "      <td>Ajman Drive Thru</td>\n",
              "      <td>Licensed</td>\n",
              "      <td>1 Street 69, Al Jarf</td>\n",
              "      <td>Ajman</td>\n",
              "      <td>AJ</td>\n",
              "      <td>AE</td>\n",
              "      <td>NaN</td>\n",
              "      <td>NaN</td>\n",
              "      <td>GMT+04:00 Asia/Dubai</td>\n",
              "      <td>55.47</td>\n",
              "      <td>25.42</td>\n",
              "    </tr>\n",
              "    <tr>\n",
              "      <th>2</th>\n",
              "      <td>Starbucks</td>\n",
              "      <td>47089-256771</td>\n",
              "      <td>Dana Mall</td>\n",
              "      <td>Licensed</td>\n",
              "      <td>Sheikh Khalifa Bin Zayed St.</td>\n",
              "      <td>Ajman</td>\n",
              "      <td>AJ</td>\n",
              "      <td>AE</td>\n",
              "      <td>NaN</td>\n",
              "      <td>NaN</td>\n",
              "      <td>GMT+04:00 Asia/Dubai</td>\n",
              "      <td>55.47</td>\n",
              "      <td>25.39</td>\n",
              "    </tr>\n",
              "    <tr>\n",
              "      <th>3</th>\n",
              "      <td>Starbucks</td>\n",
              "      <td>22126-218024</td>\n",
              "      <td>Twofour 54</td>\n",
              "      <td>Licensed</td>\n",
              "      <td>Al Salam Street</td>\n",
              "      <td>Abu Dhabi</td>\n",
              "      <td>AZ</td>\n",
              "      <td>AE</td>\n",
              "      <td>NaN</td>\n",
              "      <td>NaN</td>\n",
              "      <td>GMT+04:00 Asia/Dubai</td>\n",
              "      <td>54.38</td>\n",
              "      <td>24.48</td>\n",
              "    </tr>\n",
              "    <tr>\n",
              "      <th>4</th>\n",
              "      <td>Starbucks</td>\n",
              "      <td>17127-178586</td>\n",
              "      <td>Al Ain Tower</td>\n",
              "      <td>Licensed</td>\n",
              "      <td>Khaldiya Area, Abu Dhabi Island</td>\n",
              "      <td>Abu Dhabi</td>\n",
              "      <td>AZ</td>\n",
              "      <td>AE</td>\n",
              "      <td>NaN</td>\n",
              "      <td>NaN</td>\n",
              "      <td>GMT+04:00 Asia/Dubai</td>\n",
              "      <td>54.54</td>\n",
              "      <td>24.51</td>\n",
              "    </tr>\n",
              "  </tbody>\n",
              "</table>\n",
              "</div>"
            ],
            "text/plain": [
              "       Brand  Store Number  ... Longitude Latitude\n",
              "0  Starbucks  47370-257954  ...      1.53    42.51\n",
              "1  Starbucks  22331-212325  ...     55.47    25.42\n",
              "2  Starbucks  47089-256771  ...     55.47    25.39\n",
              "3  Starbucks  22126-218024  ...     54.38    24.48\n",
              "4  Starbucks  17127-178586  ...     54.54    24.51\n",
              "\n",
              "[5 rows x 13 columns]"
            ]
          },
          "metadata": {},
          "execution_count": 13
        }
      ]
    },
    {
      "cell_type": "markdown",
      "source": [
        "\n",
        "\n",
        "* Data is taken from Kaggle\n",
        "* Data is a csv file\n",
        "\n"
      ],
      "metadata": {
        "id": "XjFh26nAoHZp"
      }
    },
    {
      "cell_type": "code",
      "source": [
        "df.isnull().sum()"
      ],
      "metadata": {
        "colab": {
          "base_uri": "https://localhost:8080/"
        },
        "id": "rZyykDf92EAz",
        "outputId": "6f6f32e1-e51e-49d7-abdf-49db5c980207"
      },
      "execution_count": 14,
      "outputs": [
        {
          "output_type": "execute_result",
          "data": {
            "text/plain": [
              "Brand                0\n",
              "Store Number         0\n",
              "Store Name           0\n",
              "Ownership Type       0\n",
              "Street Address       2\n",
              "City                15\n",
              "State/Province       0\n",
              "Country              0\n",
              "Postcode          1522\n",
              "Phone Number      6861\n",
              "Timezone             0\n",
              "Longitude            1\n",
              "Latitude             1\n",
              "dtype: int64"
            ]
          },
          "metadata": {},
          "execution_count": 14
        }
      ]
    },
    {
      "cell_type": "code",
      "source": [
        "df['City'].fillna('India',inplace=True)\n",
        "df.fillna(0,inplace=True)\n",
        "df.isnull().values.any()"
      ],
      "metadata": {
        "colab": {
          "base_uri": "https://localhost:8080/"
        },
        "id": "nFGjq5QH2Sv0",
        "outputId": "391b3d27-a26a-43ce-fd6c-b10e6dbc56c0"
      },
      "execution_count": 15,
      "outputs": [
        {
          "output_type": "execute_result",
          "data": {
            "text/plain": [
              "False"
            ]
          },
          "metadata": {},
          "execution_count": 15
        }
      ]
    },
    {
      "cell_type": "code",
      "source": [
        "filtered_df = df[\"City\"].value_counts().reset_index()\n",
        "filtered_df.columns = [\"City\", \"Number of stores\"]\n",
        "filtered_df.head(10)"
      ],
      "metadata": {
        "colab": {
          "base_uri": "https://localhost:8080/",
          "height": 363
        },
        "id": "WLPIBaVz2clX",
        "outputId": "852bd095-1c33-4630-ef2a-52597bcd8dd8"
      },
      "execution_count": 16,
      "outputs": [
        {
          "output_type": "execute_result",
          "data": {
            "text/html": [
              "<div>\n",
              "<style scoped>\n",
              "    .dataframe tbody tr th:only-of-type {\n",
              "        vertical-align: middle;\n",
              "    }\n",
              "\n",
              "    .dataframe tbody tr th {\n",
              "        vertical-align: top;\n",
              "    }\n",
              "\n",
              "    .dataframe thead th {\n",
              "        text-align: right;\n",
              "    }\n",
              "</style>\n",
              "<table border=\"1\" class=\"dataframe\">\n",
              "  <thead>\n",
              "    <tr style=\"text-align: right;\">\n",
              "      <th></th>\n",
              "      <th>City</th>\n",
              "      <th>Number of stores</th>\n",
              "    </tr>\n",
              "  </thead>\n",
              "  <tbody>\n",
              "    <tr>\n",
              "      <th>0</th>\n",
              "      <td>上海市</td>\n",
              "      <td>542</td>\n",
              "    </tr>\n",
              "    <tr>\n",
              "      <th>1</th>\n",
              "      <td>Seoul</td>\n",
              "      <td>243</td>\n",
              "    </tr>\n",
              "    <tr>\n",
              "      <th>2</th>\n",
              "      <td>北京市</td>\n",
              "      <td>234</td>\n",
              "    </tr>\n",
              "    <tr>\n",
              "      <th>3</th>\n",
              "      <td>New York</td>\n",
              "      <td>232</td>\n",
              "    </tr>\n",
              "    <tr>\n",
              "      <th>4</th>\n",
              "      <td>London</td>\n",
              "      <td>216</td>\n",
              "    </tr>\n",
              "    <tr>\n",
              "      <th>5</th>\n",
              "      <td>Toronto</td>\n",
              "      <td>192</td>\n",
              "    </tr>\n",
              "    <tr>\n",
              "      <th>6</th>\n",
              "      <td>Mexico City</td>\n",
              "      <td>180</td>\n",
              "    </tr>\n",
              "    <tr>\n",
              "      <th>7</th>\n",
              "      <td>Chicago</td>\n",
              "      <td>180</td>\n",
              "    </tr>\n",
              "    <tr>\n",
              "      <th>8</th>\n",
              "      <td>Seattle</td>\n",
              "      <td>156</td>\n",
              "    </tr>\n",
              "    <tr>\n",
              "      <th>9</th>\n",
              "      <td>Las Vegas</td>\n",
              "      <td>156</td>\n",
              "    </tr>\n",
              "  </tbody>\n",
              "</table>\n",
              "</div>"
            ],
            "text/plain": [
              "          City  Number of stores\n",
              "0          上海市               542\n",
              "1        Seoul               243\n",
              "2          北京市               234\n",
              "3     New York               232\n",
              "4       London               216\n",
              "5      Toronto               192\n",
              "6  Mexico City               180\n",
              "7      Chicago               180\n",
              "8      Seattle               156\n",
              "9    Las Vegas               156"
            ]
          },
          "metadata": {},
          "execution_count": 16
        }
      ]
    },
    {
      "cell_type": "markdown",
      "source": [
        "As listed, the top 3 cities in the world with the largest amount of starbucks are not found in the United States. For the top 3 cities we have, Shanghai, Seoul, and Beijing. This came as a huge surpirse to me because of the large presence Starbucks has here in the United States."
      ],
      "metadata": {
        "id": "Zf9OU-dloZck"
      }
    },
    {
      "cell_type": "code",
      "source": [
        "city_count  = df['City'].value_counts()\n",
        "city_count = city_count[:10,]\n",
        "plt.figure(figsize=(10,5))\n",
        "sns.barplot(city_count.index, city_count.values, alpha=0.8)\n",
        "plt.title('Starbucks in top 10 cities in the World')\n",
        "plt.ylabel('Number of Occurrences', fontsize=14)\n",
        "plt.xlabel('city', fontsize=14)\n",
        "plt.show()"
      ],
      "metadata": {
        "colab": {
          "base_uri": "https://localhost:8080/",
          "height": 756
        },
        "id": "KysgVhI23rLM",
        "outputId": "70ffd171-13bf-4ab3-dd8d-cd719fea6b67"
      },
      "execution_count": 17,
      "outputs": [
        {
          "output_type": "stream",
          "name": "stderr",
          "text": [
            "/usr/local/lib/python3.7/dist-packages/seaborn/_decorators.py:43: FutureWarning: Pass the following variables as keyword args: x, y. From version 0.12, the only valid positional argument will be `data`, and passing other arguments without an explicit keyword will result in an error or misinterpretation.\n",
            "  FutureWarning\n",
            "/usr/local/lib/python3.7/dist-packages/matplotlib/backends/backend_agg.py:214: RuntimeWarning: Glyph 19978 missing from current font.\n",
            "  font.set_text(s, 0.0, flags=flags)\n",
            "/usr/local/lib/python3.7/dist-packages/matplotlib/backends/backend_agg.py:214: RuntimeWarning: Glyph 28023 missing from current font.\n",
            "  font.set_text(s, 0.0, flags=flags)\n",
            "/usr/local/lib/python3.7/dist-packages/matplotlib/backends/backend_agg.py:214: RuntimeWarning: Glyph 24066 missing from current font.\n",
            "  font.set_text(s, 0.0, flags=flags)\n",
            "/usr/local/lib/python3.7/dist-packages/matplotlib/backends/backend_agg.py:214: RuntimeWarning: Glyph 21271 missing from current font.\n",
            "  font.set_text(s, 0.0, flags=flags)\n",
            "/usr/local/lib/python3.7/dist-packages/matplotlib/backends/backend_agg.py:214: RuntimeWarning: Glyph 20140 missing from current font.\n",
            "  font.set_text(s, 0.0, flags=flags)\n",
            "/usr/local/lib/python3.7/dist-packages/matplotlib/backends/backend_agg.py:183: RuntimeWarning: Glyph 19978 missing from current font.\n",
            "  font.set_text(s, 0, flags=flags)\n",
            "/usr/local/lib/python3.7/dist-packages/matplotlib/backends/backend_agg.py:183: RuntimeWarning: Glyph 28023 missing from current font.\n",
            "  font.set_text(s, 0, flags=flags)\n",
            "/usr/local/lib/python3.7/dist-packages/matplotlib/backends/backend_agg.py:183: RuntimeWarning: Glyph 24066 missing from current font.\n",
            "  font.set_text(s, 0, flags=flags)\n",
            "/usr/local/lib/python3.7/dist-packages/matplotlib/backends/backend_agg.py:183: RuntimeWarning: Glyph 21271 missing from current font.\n",
            "  font.set_text(s, 0, flags=flags)\n",
            "/usr/local/lib/python3.7/dist-packages/matplotlib/backends/backend_agg.py:183: RuntimeWarning: Glyph 20140 missing from current font.\n",
            "  font.set_text(s, 0, flags=flags)\n"
          ]
        },
        {
          "output_type": "display_data",
          "data": {
            "image/png": "[encoded data removed]",
            "text/plain": [
              "<Figure size 720x360 with 1 Axes>"
            ]
          },
          "metadata": {
            "needs_background": "light"
          }
        }
      ]
    },
    {
      "cell_type": "markdown",
      "source": [
        "As you can see with the graph, Shanghai has an absurd amount of starbucks compared to other large cities in the world. 4 of the top 10 Starbucks cities are from the United States."
      ],
      "metadata": {
        "id": "ZkpenmCVqFnj"
      }
    },
    {
      "cell_type": "code",
      "source": [
        "df.shape[0]\n"
      ],
      "metadata": {
        "colab": {
          "base_uri": "https://localhost:8080/"
        },
        "id": "noxNUDt7knwz",
        "outputId": "2beb0f2d-ebea-4a39-e027-86828a7b12f2"
      },
      "execution_count": 18,
      "outputs": [
        {
          "output_type": "execute_result",
          "data": {
            "text/plain": [
              "25600"
            ]
          },
          "metadata": {},
          "execution_count": 18
        }
      ]
    },
    {
      "cell_type": "markdown",
      "source": [
        "There are currently 25600 Starbucks operating worlwide with the operations happening in approximately 73 different countires."
      ],
      "metadata": {
        "id": "LIGHG8Udlptw"
      }
    },
    {
      "cell_type": "code",
      "source": [
        "len(df.Country.unique())"
      ],
      "metadata": {
        "colab": {
          "base_uri": "https://localhost:8080/"
        },
        "id": "j5hf-P5sk_V2",
        "outputId": "09605415-c52f-49ac-8799-3ec6f127566c"
      },
      "execution_count": 19,
      "outputs": [
        {
          "output_type": "execute_result",
          "data": {
            "text/plain": [
              "73"
            ]
          },
          "metadata": {},
          "execution_count": 19
        }
      ]
    },
    {
      "cell_type": "code",
      "source": [
        "df.Country.value_counts().head(10)"
      ],
      "metadata": {
        "colab": {
          "base_uri": "https://localhost:8080/"
        },
        "id": "TNhZKBfhlJHo",
        "outputId": "5e9ddb4c-6f0a-4b0d-e012-c50ef7c44b5d"
      },
      "execution_count": 20,
      "outputs": [
        {
          "output_type": "execute_result",
          "data": {
            "text/plain": [
              "US    13608\n",
              "CN     2734\n",
              "CA     1468\n",
              "JP     1237\n",
              "KR      993\n",
              "GB      901\n",
              "MX      579\n",
              "TW      394\n",
              "TR      326\n",
              "PH      298\n",
              "Name: Country, dtype: int64"
            ]
          },
          "metadata": {},
          "execution_count": 20
        }
      ]
    },
    {
      "cell_type": "markdown",
      "source": [
        "As shown by the graph, a very large portion of the operating starbucks around the world are in the United States. Following second with over 2000 operating stores is china and third is canada with just under 2000 operating stores. More than 50% of all starbucks are located in the United States."
      ],
      "metadata": {
        "id": "SS60yvtMmgSd"
      }
    },
    {
      "cell_type": "code",
      "source": [
        "fig = plt.figure(figsize=(8,5))\n",
        "ax = fig.add_subplot(111)\n",
        "ax.set(title = \"Top 10 Countries with Most Number of Starbucks Stores\")\n",
        "df.Country.value_counts().head(10).plot(kind=\"bar\", color = \"green\")"
      ],
      "metadata": {
        "colab": {
          "base_uri": "https://localhost:8080/",
          "height": 359
        },
        "id": "9pxpnlw1lT95",
        "outputId": "473f717c-7812-4498-907c-6aeea64cd77b"
      },
      "execution_count": 25,
      "outputs": [
        {
          "output_type": "execute_result",
          "data": {
            "text/plain": [
              "<matplotlib.axes._subplots.AxesSubplot at 0x7fedb4900cd0>"
            ]
          },
          "metadata": {},
          "execution_count": 25
        },
        {
          "output_type": "display_data",
          "data": {
            "image/png": "[encoded data removed]",
            "text/plain": [
              "<Figure size 576x360 with 1 Axes>"
            ]
          },
          "metadata": {
            "needs_background": "light"
          }
        }
      ]
    },
    {
      "cell_type": "markdown",
      "source": [
        "**Conclusion:**\n",
        "While working on this project, I was able to see how wide of a presnce starbucks really has around the world. Prior to this project I knew that Starbucks was very popular here in the United States but I never imagined that they had this great of an impact on the rest of the world. As more Starbucks are beijng built around the world, it would be interesting to see how this info would change in the future as time passes by."
      ],
      "metadata": {
        "id": "Bm1UBosB8alc"
      }
    }
  ]
}